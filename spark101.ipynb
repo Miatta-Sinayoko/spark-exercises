{
 "cells": [
  {
   "cell_type": "markdown",
   "id": "39aef104",
   "metadata": {},
   "source": [
    "# Spark 101 Exercise"
   ]
  },
  {
   "cell_type": "code",
   "execution_count": 1,
   "id": "fefa83a4-367f-43de-8d98-20c65238973b",
   "metadata": {},
   "outputs": [
    {
     "name": "stderr",
     "output_type": "stream",
     "text": [
      "Setting default log level to \"WARN\".\n",
      "To adjust logging level use sc.setLogLevel(newLevel). For SparkR, use setLogLevel(newLevel).\n",
      "23/08/22 15:04:30 WARN NativeCodeLoader: Unable to load native-hadoop library for your platform... using builtin-java classes where applicable\n"
     ]
    }
   ],
   "source": [
    "\n",
    "import pyspark\n",
    "#create the spark session\n",
    "spark = pyspark.sql.SparkSession.builder.getOrCreate()\n",
    "#datafrane stuff\n",
    "import pandas as pd\n",
    "import numpy as np\n",
    "#import data sets\n",
    "from pydataset import data\n",
    "from vega_datasets import data\n",
    "\n",
    "#import functions\n",
    "from pyspark.sql.functions import col,min, max, sum, count, mean, avg,round,expr,concat,lit\n",
    "from pyspark.sql.functions import regexp_extract, regexp_replace,when,month, year, quarter\n",
    "\n",
    "\n"
   ]
  },
  {
   "cell_type": "markdown",
   "id": "a164c495-b477-40bb-a67b-454b622b48f4",
   "metadata": {},
   "source": [
    "# 1. Create a spark data frame that contains your favorite programming languages."
   ]
  },
  {
   "cell_type": "code",
   "execution_count": 2,
   "id": "26356f6b-a386-4087-afdc-7ae46be9a50d",
   "metadata": {},
   "outputs": [
    {
     "data": {
      "text/html": [
       "<div>\n",
       "<style scoped>\n",
       "    .dataframe tbody tr th:only-of-type {\n",
       "        vertical-align: middle;\n",
       "    }\n",
       "\n",
       "    .dataframe tbody tr th {\n",
       "        vertical-align: top;\n",
       "    }\n",
       "\n",
       "    .dataframe thead th {\n",
       "        text-align: right;\n",
       "    }\n",
       "</style>\n",
       "<table border=\"1\" class=\"dataframe\">\n",
       "  <thead>\n",
       "    <tr style=\"text-align: right;\">\n",
       "      <th></th>\n",
       "      <th>language</th>\n",
       "    </tr>\n",
       "  </thead>\n",
       "  <tbody>\n",
       "    <tr>\n",
       "      <th>0</th>\n",
       "      <td>R</td>\n",
       "    </tr>\n",
       "    <tr>\n",
       "      <th>1</th>\n",
       "      <td>Python</td>\n",
       "    </tr>\n",
       "    <tr>\n",
       "      <th>2</th>\n",
       "      <td>JavaScrip</td>\n",
       "    </tr>\n",
       "    <tr>\n",
       "      <th>3</th>\n",
       "      <td>Java</td>\n",
       "    </tr>\n",
       "    <tr>\n",
       "      <th>4</th>\n",
       "      <td>Ruby</td>\n",
       "    </tr>\n",
       "  </tbody>\n",
       "</table>\n",
       "</div>"
      ],
      "text/plain": [
       "    language\n",
       "0          R\n",
       "1     Python\n",
       "2  JavaScrip\n",
       "3       Java\n",
       "4       Ruby"
      ]
     },
     "execution_count": 2,
     "metadata": {},
     "output_type": "execute_result"
    }
   ],
   "source": [
    "lang_list=('R','Python','JavaScrip','Java','Ruby','Rust','SQL','HTML','CSS')\n",
    "language_df = pd.DataFrame(lang_list,columns=['language']\n",
    "    \n",
    ")\n",
    "\n",
    "language_df.head()"
   ]
  },
  {
   "cell_type": "code",
   "execution_count": 3,
   "id": "7f1dcee5-8a7d-433a-888c-502245f5c2fc",
   "metadata": {},
   "outputs": [],
   "source": [
    "df = spark.createDataFrame(language_df)"
   ]
  },
  {
   "cell_type": "code",
   "execution_count": 4,
   "id": "ef548c0d-ad48-4703-ad06-674c72d089de",
   "metadata": {},
   "outputs": [
    {
     "name": "stderr",
     "output_type": "stream",
     "text": [
      "                                                                                \r"
     ]
    },
    {
     "name": "stdout",
     "output_type": "stream",
     "text": [
      "+---------+\n",
      "| language|\n",
      "+---------+\n",
      "|        R|\n",
      "|   Python|\n",
      "|JavaScrip|\n",
      "|     Java|\n",
      "|     Ruby|\n",
      "|     Rust|\n",
      "|      SQL|\n",
      "|     HTML|\n",
      "|      CSS|\n",
      "+---------+\n",
      "\n"
     ]
    }
   ],
   "source": [
    "df.show()"
   ]
  },
  {
   "cell_type": "code",
   "execution_count": 5,
   "id": "a76b49c8-1b92-45f7-8523-aa5718f3bda5",
   "metadata": {},
   "outputs": [
    {
     "name": "stdout",
     "output_type": "stream",
     "text": [
      "root\n",
      " |-- language: string (nullable = true)\n",
      "\n"
     ]
    }
   ],
   "source": [
    "df.printSchema()"
   ]
  },
  {
   "cell_type": "code",
   "execution_count": 6,
   "id": "68c93e52-07e9-4b0c-af19-91087d5706a6",
   "metadata": {},
   "outputs": [
    {
     "data": {
      "text/plain": [
       "(9, 1)"
      ]
     },
     "execution_count": 6,
     "metadata": {},
     "output_type": "execute_result"
    }
   ],
   "source": [
    "df.count(),len(df.columns)"
   ]
  },
  {
   "cell_type": "code",
   "execution_count": 7,
   "id": "530f6510-b09a-40ec-a855-8e1cb9b8c76c",
   "metadata": {},
   "outputs": [
    {
     "name": "stdout",
     "output_type": "stream",
     "text": [
      "+---------+\n",
      "| language|\n",
      "+---------+\n",
      "|        R|\n",
      "|   Python|\n",
      "|JavaScrip|\n",
      "|     Java|\n",
      "|     Ruby|\n",
      "+---------+\n",
      "only showing top 5 rows\n",
      "\n"
     ]
    }
   ],
   "source": [
    "df.show(5)"
   ]
  },
  {
   "cell_type": "markdown",
   "id": "18c07116-91b7-4998-a0c5-d16aa57c61d8",
   "metadata": {},
   "source": [
    "# 2. Load the mpg dataset as a spark dataframe."
   ]
  },
  {
   "cell_type": "code",
   "execution_count": 8,
   "id": "ddfa3962-20f0-48e8-a8f9-d0b6f592784a",
   "metadata": {},
   "outputs": [
    {
     "data": {
      "text/plain": [
       "DataFrame[manufacturer: string, model: string, displ: double, year: bigint, cyl: bigint, trans: string, drv: string, cty: bigint, hwy: bigint, fl: string, class: string]"
      ]
     },
     "execution_count": 8,
     "metadata": {},
     "output_type": "execute_result"
    }
   ],
   "source": [
    "from pydataset import data\n",
    "df = spark.createDataFrame(data('mpg'))\n",
    "df"
   ]
  },
  {
   "cell_type": "code",
   "execution_count": 9,
   "id": "bab616ad-108d-4521-9dd0-84b1aa7af790",
   "metadata": {},
   "outputs": [
    {
     "name": "stdout",
     "output_type": "stream",
     "text": [
      "+------------+-----+-----+----+---+----------+---+---+---+---+-------+\n",
      "|manufacturer|model|displ|year|cyl|     trans|drv|cty|hwy| fl|  class|\n",
      "+------------+-----+-----+----+---+----------+---+---+---+---+-------+\n",
      "|        audi|   a4|  1.8|1999|  4|  auto(l5)|  f| 18| 29|  p|compact|\n",
      "|        audi|   a4|  1.8|1999|  4|manual(m5)|  f| 21| 29|  p|compact|\n",
      "|        audi|   a4|  2.0|2008|  4|manual(m6)|  f| 20| 31|  p|compact|\n",
      "|        audi|   a4|  2.0|2008|  4|  auto(av)|  f| 21| 30|  p|compact|\n",
      "|        audi|   a4|  2.8|1999|  6|  auto(l5)|  f| 16| 26|  p|compact|\n",
      "+------------+-----+-----+----+---+----------+---+---+---+---+-------+\n",
      "only showing top 5 rows\n",
      "\n"
     ]
    }
   ],
   "source": [
    "df.show(5)"
   ]
  },
  {
   "cell_type": "markdown",
   "id": "2269b39a-061b-4a19-aa4b-7c2292daf496",
   "metadata": {},
   "source": [
    "### a.Create 1 column of output that contains a message like the one below:\n",
    "The 1999 audi a4 has a 4 cylinder engine."
   ]
  },
  {
   "cell_type": "code",
   "execution_count": 10,
   "id": "1b03bf23-67e3-480f-8dc5-3a25e82b2b96",
   "metadata": {},
   "outputs": [
    {
     "name": "stdout",
     "output_type": "stream",
     "text": [
      "The 1999 audi a4 has a 4 cylinder engine.\n"
     ]
    }
   ],
   "source": [
    "year_manufacturer_model = df.select('year', 'manufacturer', 'model').collect()[0]\n",
    "cylinder = df.select('cyl').collect()[0][0]\n",
    "\n",
    "print(f\"The {year_manufacturer_model['year']} {year_manufacturer_model['manufacturer']} {year_manufacturer_model['model']} has a {cylinder} cylinder engine.\")\n"
   ]
  },
  {
   "cell_type": "code",
   "execution_count": 11,
   "id": "1cfb371f-cf36-4e55-be45-0614b3709364",
   "metadata": {},
   "outputs": [
    {
     "name": "stdout",
     "output_type": "stream",
     "text": [
      "+------------+------------------+-----+----+---+----------+---+---+---+---+-------+--------------------------------------------------------------+\n",
      "|manufacturer|model             |displ|year|cyl|trans     |drv|cty|hwy|fl |class  |engine_description                                            |\n",
      "+------------+------------------+-----+----+---+----------+---+---+---+---+-------+--------------------------------------------------------------+\n",
      "|audi        |a4                |1.8  |1999|4  |auto(l5)  |f  |18 |29 |p  |compact|The 1999 audi a4 has a 4 cylinder engine.                     |\n",
      "|audi        |a4                |1.8  |1999|4  |manual(m5)|f  |21 |29 |p  |compact|The 1999 audi a4 has a 4 cylinder engine.                     |\n",
      "|audi        |a4                |2.0  |2008|4  |manual(m6)|f  |20 |31 |p  |compact|The 2008 audi a4 has a 4 cylinder engine.                     |\n",
      "|audi        |a4                |2.0  |2008|4  |auto(av)  |f  |21 |30 |p  |compact|The 2008 audi a4 has a 4 cylinder engine.                     |\n",
      "|audi        |a4                |2.8  |1999|6  |auto(l5)  |f  |16 |26 |p  |compact|The 1999 audi a4 has a 6 cylinder engine.                     |\n",
      "|audi        |a4                |2.8  |1999|6  |manual(m5)|f  |18 |26 |p  |compact|The 1999 audi a4 has a 6 cylinder engine.                     |\n",
      "|audi        |a4                |3.1  |2008|6  |auto(av)  |f  |18 |27 |p  |compact|The 2008 audi a4 has a 6 cylinder engine.                     |\n",
      "|audi        |a4 quattro        |1.8  |1999|4  |manual(m5)|4  |18 |26 |p  |compact|The 1999 audi a4 quattro has a 4 cylinder engine.             |\n",
      "|audi        |a4 quattro        |1.8  |1999|4  |auto(l5)  |4  |16 |25 |p  |compact|The 1999 audi a4 quattro has a 4 cylinder engine.             |\n",
      "|audi        |a4 quattro        |2.0  |2008|4  |manual(m6)|4  |20 |28 |p  |compact|The 2008 audi a4 quattro has a 4 cylinder engine.             |\n",
      "|audi        |a4 quattro        |2.0  |2008|4  |auto(s6)  |4  |19 |27 |p  |compact|The 2008 audi a4 quattro has a 4 cylinder engine.             |\n",
      "|audi        |a4 quattro        |2.8  |1999|6  |auto(l5)  |4  |15 |25 |p  |compact|The 1999 audi a4 quattro has a 6 cylinder engine.             |\n",
      "|audi        |a4 quattro        |2.8  |1999|6  |manual(m5)|4  |17 |25 |p  |compact|The 1999 audi a4 quattro has a 6 cylinder engine.             |\n",
      "|audi        |a4 quattro        |3.1  |2008|6  |auto(s6)  |4  |17 |25 |p  |compact|The 2008 audi a4 quattro has a 6 cylinder engine.             |\n",
      "|audi        |a4 quattro        |3.1  |2008|6  |manual(m6)|4  |15 |25 |p  |compact|The 2008 audi a4 quattro has a 6 cylinder engine.             |\n",
      "|audi        |a6 quattro        |2.8  |1999|6  |auto(l5)  |4  |15 |24 |p  |midsize|The 1999 audi a6 quattro has a 6 cylinder engine.             |\n",
      "|audi        |a6 quattro        |3.1  |2008|6  |auto(s6)  |4  |17 |25 |p  |midsize|The 2008 audi a6 quattro has a 6 cylinder engine.             |\n",
      "|audi        |a6 quattro        |4.2  |2008|8  |auto(s6)  |4  |16 |23 |p  |midsize|The 2008 audi a6 quattro has a 8 cylinder engine.             |\n",
      "|chevrolet   |c1500 suburban 2wd|5.3  |2008|8  |auto(l4)  |r  |14 |20 |r  |suv    |The 2008 chevrolet c1500 suburban 2wd has a 8 cylinder engine.|\n",
      "|chevrolet   |c1500 suburban 2wd|5.3  |2008|8  |auto(l4)  |r  |11 |15 |e  |suv    |The 2008 chevrolet c1500 suburban 2wd has a 8 cylinder engine.|\n",
      "+------------+------------------+-----+----+---+----------+---+---+---+---+-------+--------------------------------------------------------------+\n",
      "only showing top 20 rows\n",
      "\n"
     ]
    }
   ],
   "source": [
    "df = df.withColumn(\n",
    "    'engine_description',\n",
    "    concat(\n",
    "        lit(\"The \"),\n",
    "        df['year'],\n",
    "        lit(\" \"),\n",
    "        df['manufacturer'],\n",
    "        lit(\" \"),\n",
    "        df['model'],\n",
    "        lit(\" has a \"),\n",
    "        df['cyl'],\n",
    "        lit(\" cylinder engine.\")\n",
    "    )\n",
    ")\n",
    "\n",
    "df.show(truncate=False)"
   ]
  },
  {
   "cell_type": "markdown",
   "id": "85aa08db-c436-4880-9c37-854088d2944b",
   "metadata": {},
   "source": [
    "### For each vehicle.\n",
    "\n",
    "b. Transform the trans column so that it only contains either manual or auto."
   ]
  },
  {
   "cell_type": "code",
   "execution_count": 12,
   "id": "a3db2fa2-9f2f-4703-95ee-13da341e985e",
   "metadata": {},
   "outputs": [
    {
     "name": "stdout",
     "output_type": "stream",
     "text": [
      "+-----------+\n",
      "|clean_trans|\n",
      "+-----------+\n",
      "|auto       |\n",
      "|manual     |\n",
      "|manual     |\n",
      "|auto       |\n",
      "|auto       |\n",
      "|manual     |\n",
      "|auto       |\n",
      "|manual     |\n",
      "|auto       |\n",
      "|manual     |\n",
      "|auto       |\n",
      "|auto       |\n",
      "|manual     |\n",
      "|auto       |\n",
      "|manual     |\n",
      "|auto       |\n",
      "|auto       |\n",
      "|auto       |\n",
      "|auto       |\n",
      "|auto       |\n",
      "+-----------+\n",
      "only showing top 20 rows\n",
      "\n"
     ]
    }
   ],
   "source": [
    "df.select(\n",
    "    regexp_extract(df['trans'], r'^(manual|auto)', 1).alias('clean_trans')\n",
    ").show(truncate=False)"
   ]
  },
  {
   "cell_type": "code",
   "execution_count": 13,
   "id": "34186b9c-72cf-43d8-b2df-4268341e818b",
   "metadata": {},
   "outputs": [
    {
     "name": "stdout",
     "output_type": "stream",
     "text": [
      "+------------+------------------+-----+----+---+----------+---+---+---+---+-------+--------------------------------------------------------------+\n",
      "|manufacturer|model             |displ|year|cyl|trans     |drv|cty|hwy|fl |class  |engine_description                                            |\n",
      "+------------+------------------+-----+----+---+----------+---+---+---+---+-------+--------------------------------------------------------------+\n",
      "|audi        |a4                |1.8  |1999|4  |auto(l5)  |f  |18 |29 |p  |compact|The 1999 audi a4 has a 4 cylinder engine.                     |\n",
      "|audi        |a4                |1.8  |1999|4  |manual(m5)|f  |21 |29 |p  |compact|The 1999 audi a4 has a 4 cylinder engine.                     |\n",
      "|audi        |a4                |2.0  |2008|4  |manual(m6)|f  |20 |31 |p  |compact|The 2008 audi a4 has a 4 cylinder engine.                     |\n",
      "|audi        |a4                |2.0  |2008|4  |auto(av)  |f  |21 |30 |p  |compact|The 2008 audi a4 has a 4 cylinder engine.                     |\n",
      "|audi        |a4                |2.8  |1999|6  |auto(l5)  |f  |16 |26 |p  |compact|The 1999 audi a4 has a 6 cylinder engine.                     |\n",
      "|audi        |a4                |2.8  |1999|6  |manual(m5)|f  |18 |26 |p  |compact|The 1999 audi a4 has a 6 cylinder engine.                     |\n",
      "|audi        |a4                |3.1  |2008|6  |auto(av)  |f  |18 |27 |p  |compact|The 2008 audi a4 has a 6 cylinder engine.                     |\n",
      "|audi        |a4 quattro        |1.8  |1999|4  |manual(m5)|4  |18 |26 |p  |compact|The 1999 audi a4 quattro has a 4 cylinder engine.             |\n",
      "|audi        |a4 quattro        |1.8  |1999|4  |auto(l5)  |4  |16 |25 |p  |compact|The 1999 audi a4 quattro has a 4 cylinder engine.             |\n",
      "|audi        |a4 quattro        |2.0  |2008|4  |manual(m6)|4  |20 |28 |p  |compact|The 2008 audi a4 quattro has a 4 cylinder engine.             |\n",
      "|audi        |a4 quattro        |2.0  |2008|4  |auto(s6)  |4  |19 |27 |p  |compact|The 2008 audi a4 quattro has a 4 cylinder engine.             |\n",
      "|audi        |a4 quattro        |2.8  |1999|6  |auto(l5)  |4  |15 |25 |p  |compact|The 1999 audi a4 quattro has a 6 cylinder engine.             |\n",
      "|audi        |a4 quattro        |2.8  |1999|6  |manual(m5)|4  |17 |25 |p  |compact|The 1999 audi a4 quattro has a 6 cylinder engine.             |\n",
      "|audi        |a4 quattro        |3.1  |2008|6  |auto(s6)  |4  |17 |25 |p  |compact|The 2008 audi a4 quattro has a 6 cylinder engine.             |\n",
      "|audi        |a4 quattro        |3.1  |2008|6  |manual(m6)|4  |15 |25 |p  |compact|The 2008 audi a4 quattro has a 6 cylinder engine.             |\n",
      "|audi        |a6 quattro        |2.8  |1999|6  |auto(l5)  |4  |15 |24 |p  |midsize|The 1999 audi a6 quattro has a 6 cylinder engine.             |\n",
      "|audi        |a6 quattro        |3.1  |2008|6  |auto(s6)  |4  |17 |25 |p  |midsize|The 2008 audi a6 quattro has a 6 cylinder engine.             |\n",
      "|audi        |a6 quattro        |4.2  |2008|8  |auto(s6)  |4  |16 |23 |p  |midsize|The 2008 audi a6 quattro has a 8 cylinder engine.             |\n",
      "|chevrolet   |c1500 suburban 2wd|5.3  |2008|8  |auto(l4)  |r  |14 |20 |r  |suv    |The 2008 chevrolet c1500 suburban 2wd has a 8 cylinder engine.|\n",
      "|chevrolet   |c1500 suburban 2wd|5.3  |2008|8  |auto(l4)  |r  |11 |15 |e  |suv    |The 2008 chevrolet c1500 suburban 2wd has a 8 cylinder engine.|\n",
      "+------------+------------------+-----+----+---+----------+---+---+---+---+-------+--------------------------------------------------------------+\n",
      "only showing top 20 rows\n",
      "\n"
     ]
    }
   ],
   "source": [
    "df = df.withColumn(\n",
    "    'engine_description',\n",
    "    concat(\n",
    "        lit(\"The \"),\n",
    "        df['year'],\n",
    "        lit(\" \"),\n",
    "        df['manufacturer'],\n",
    "        lit(\" \"),\n",
    "        df['model'],\n",
    "        lit(\" has a \"),\n",
    "        df['cyl'],\n",
    "        lit(\" cylinder engine.\") )\n",
    ")\n",
    "\n",
    "df.show(truncate=False)"
   ]
  },
  {
   "cell_type": "code",
   "execution_count": 14,
   "id": "f8a45c3e-0d24-4ea5-9fe5-205880a3bae8",
   "metadata": {},
   "outputs": [
    {
     "name": "stdout",
     "output_type": "stream",
     "text": [
      "+------------+------------------+-----+----+---+----------+---+---+---+---+-------+--------------------------------------------------------------+-----------+\n",
      "|manufacturer|model             |displ|year|cyl|trans     |drv|cty|hwy|fl |class  |engine_description                                            |clean_trans|\n",
      "+------------+------------------+-----+----+---+----------+---+---+---+---+-------+--------------------------------------------------------------+-----------+\n",
      "|audi        |a4                |1.8  |1999|4  |auto(l5)  |f  |18 |29 |p  |compact|The 1999 audi a4 has a 4 cylinder engine.                     |auto       |\n",
      "|audi        |a4                |1.8  |1999|4  |manual(m5)|f  |21 |29 |p  |compact|The 1999 audi a4 has a 4 cylinder engine.                     |manual     |\n",
      "|audi        |a4                |2.0  |2008|4  |manual(m6)|f  |20 |31 |p  |compact|The 2008 audi a4 has a 4 cylinder engine.                     |manual     |\n",
      "|audi        |a4                |2.0  |2008|4  |auto(av)  |f  |21 |30 |p  |compact|The 2008 audi a4 has a 4 cylinder engine.                     |auto       |\n",
      "|audi        |a4                |2.8  |1999|6  |auto(l5)  |f  |16 |26 |p  |compact|The 1999 audi a4 has a 6 cylinder engine.                     |auto       |\n",
      "|audi        |a4                |2.8  |1999|6  |manual(m5)|f  |18 |26 |p  |compact|The 1999 audi a4 has a 6 cylinder engine.                     |manual     |\n",
      "|audi        |a4                |3.1  |2008|6  |auto(av)  |f  |18 |27 |p  |compact|The 2008 audi a4 has a 6 cylinder engine.                     |auto       |\n",
      "|audi        |a4 quattro        |1.8  |1999|4  |manual(m5)|4  |18 |26 |p  |compact|The 1999 audi a4 quattro has a 4 cylinder engine.             |manual     |\n",
      "|audi        |a4 quattro        |1.8  |1999|4  |auto(l5)  |4  |16 |25 |p  |compact|The 1999 audi a4 quattro has a 4 cylinder engine.             |auto       |\n",
      "|audi        |a4 quattro        |2.0  |2008|4  |manual(m6)|4  |20 |28 |p  |compact|The 2008 audi a4 quattro has a 4 cylinder engine.             |manual     |\n",
      "|audi        |a4 quattro        |2.0  |2008|4  |auto(s6)  |4  |19 |27 |p  |compact|The 2008 audi a4 quattro has a 4 cylinder engine.             |auto       |\n",
      "|audi        |a4 quattro        |2.8  |1999|6  |auto(l5)  |4  |15 |25 |p  |compact|The 1999 audi a4 quattro has a 6 cylinder engine.             |auto       |\n",
      "|audi        |a4 quattro        |2.8  |1999|6  |manual(m5)|4  |17 |25 |p  |compact|The 1999 audi a4 quattro has a 6 cylinder engine.             |manual     |\n",
      "|audi        |a4 quattro        |3.1  |2008|6  |auto(s6)  |4  |17 |25 |p  |compact|The 2008 audi a4 quattro has a 6 cylinder engine.             |auto       |\n",
      "|audi        |a4 quattro        |3.1  |2008|6  |manual(m6)|4  |15 |25 |p  |compact|The 2008 audi a4 quattro has a 6 cylinder engine.             |manual     |\n",
      "|audi        |a6 quattro        |2.8  |1999|6  |auto(l5)  |4  |15 |24 |p  |midsize|The 1999 audi a6 quattro has a 6 cylinder engine.             |auto       |\n",
      "|audi        |a6 quattro        |3.1  |2008|6  |auto(s6)  |4  |17 |25 |p  |midsize|The 2008 audi a6 quattro has a 6 cylinder engine.             |auto       |\n",
      "|audi        |a6 quattro        |4.2  |2008|8  |auto(s6)  |4  |16 |23 |p  |midsize|The 2008 audi a6 quattro has a 8 cylinder engine.             |auto       |\n",
      "|chevrolet   |c1500 suburban 2wd|5.3  |2008|8  |auto(l4)  |r  |14 |20 |r  |suv    |The 2008 chevrolet c1500 suburban 2wd has a 8 cylinder engine.|auto       |\n",
      "|chevrolet   |c1500 suburban 2wd|5.3  |2008|8  |auto(l4)  |r  |11 |15 |e  |suv    |The 2008 chevrolet c1500 suburban 2wd has a 8 cylinder engine.|auto       |\n",
      "+------------+------------------+-----+----+---+----------+---+---+---+---+-------+--------------------------------------------------------------+-----------+\n",
      "only showing top 20 rows\n",
      "\n"
     ]
    }
   ],
   "source": [
    "df = df.withColumn('clean_trans', regexp_extract(df['trans'], r'^(manual|auto)', 1))\n",
    "\n",
    "df.show(truncate=False)"
   ]
  },
  {
   "cell_type": "markdown",
   "id": "f3d39226-ea2f-48d1-881e-e8df9ce13042",
   "metadata": {},
   "source": [
    "## 3. Load the tips dataset as a spark dataframe."
   ]
  },
  {
   "cell_type": "code",
   "execution_count": 15,
   "id": "fe826d05-43e5-4428-b806-67499b33b965",
   "metadata": {},
   "outputs": [
    {
     "data": {
      "text/plain": [
       "DataFrame[total_bill: double, tip: double, sex: string, smoker: string, day: string, time: string, size: bigint]"
      ]
     },
     "execution_count": 15,
     "metadata": {},
     "output_type": "execute_result"
    }
   ],
   "source": [
    "df = spark.createDataFrame(data('tips'))\n",
    "df"
   ]
  },
  {
   "cell_type": "code",
   "execution_count": 16,
   "id": "33be8e91-3c60-479f-a307-331e3addb214",
   "metadata": {},
   "outputs": [
    {
     "name": "stdout",
     "output_type": "stream",
     "text": [
      "+----------+----+------+------+---+------+----+\n",
      "|total_bill| tip|   sex|smoker|day|  time|size|\n",
      "+----------+----+------+------+---+------+----+\n",
      "|     16.99|1.01|Female|    No|Sun|Dinner|   2|\n",
      "|     10.34|1.66|  Male|    No|Sun|Dinner|   3|\n",
      "|     21.01| 3.5|  Male|    No|Sun|Dinner|   3|\n",
      "|     23.68|3.31|  Male|    No|Sun|Dinner|   2|\n",
      "|     24.59|3.61|Female|    No|Sun|Dinner|   4|\n",
      "+----------+----+------+------+---+------+----+\n",
      "only showing top 5 rows\n",
      "\n"
     ]
    }
   ],
   "source": [
    "df.show(5)"
   ]
  },
  {
   "cell_type": "markdown",
   "id": "e782e057-b9cc-42ee-9166-ab28312328e8",
   "metadata": {},
   "source": [
    "### a. What percentage of observations are smokers?"
   ]
  },
  {
   "cell_type": "code",
   "execution_count": 17,
   "id": "742d160a-e85f-467b-9d1d-9c302f3585b7",
   "metadata": {},
   "outputs": [
    {
     "name": "stdout",
     "output_type": "stream",
     "text": [
      "+------------------------------------------------------------------+\n",
      "|((count(CASE WHEN (smoker = Yes) THEN true END) / count(1)) * 100)|\n",
      "+------------------------------------------------------------------+\n",
      "|                                                38.114754098360656|\n",
      "+------------------------------------------------------------------+\n",
      "\n"
     ]
    }
   ],
   "source": [
    "df.groupBy().agg((count(when(df.smoker == 'Yes', True)) / count('*') * 100)).show()"
   ]
  },
  {
   "cell_type": "markdown",
   "id": "d41c0314-07eb-4324-845d-56c240241ed7",
   "metadata": {
    "tags": []
   },
   "source": [
    "### b. Create a column that contains the tip percentage\n"
   ]
  },
  {
   "cell_type": "code",
   "execution_count": 18,
   "id": "a379a4c3-2a55-4007-86e6-804541e38f2d",
   "metadata": {
    "tags": []
   },
   "outputs": [
    {
     "name": "stdout",
     "output_type": "stream",
     "text": [
      "+--------------------------------+\n",
      "|(count(tip) / count(total_bill))|\n",
      "+--------------------------------+\n",
      "|                             1.0|\n",
      "+--------------------------------+\n",
      "\n"
     ]
    }
   ],
   "source": [
    "df.groupBy().agg((count(df.tip) / count('total_bill'))).show()"
   ]
  },
  {
   "cell_type": "code",
   "execution_count": 19,
   "id": "155f5c52-a3ec-46cc-8754-a046b59db3ec",
   "metadata": {},
   "outputs": [
    {
     "name": "stdout",
     "output_type": "stream",
     "text": [
      "+----------+----+------+------+---+------+----+-------------------+\n",
      "|total_bill| tip|   sex|smoker|day|  time|size|     tip_percentage|\n",
      "+----------+----+------+------+---+------+----+-------------------+\n",
      "|     16.99|1.01|Female|    No|Sun|Dinner|   2| 0.1380573553131578|\n",
      "|     10.34|1.66|  Male|    No|Sun|Dinner|   3|0.22690614833647715|\n",
      "|     21.01| 3.5|  Male|    No|Sun|Dinner|   3|0.47841657781787356|\n",
      "|     23.68|3.31|  Male|    No|Sun|Dinner|   2|0.45244539216490326|\n",
      "|     24.59|3.61|Female|    No|Sun|Dinner|   4|0.49345252740643525|\n",
      "|     25.29|4.71|  Male|    No|Sun|Dinner|   4| 0.6438120232920527|\n",
      "|      8.77| 2.0|  Male|    No|Sun|Dinner|   2|0.27338090161021344|\n",
      "|     26.88|3.12|  Male|    No|Sun|Dinner|   4|  0.426474206511933|\n",
      "|     15.04|1.96|  Male|    No|Sun|Dinner|   2|0.26791328357800914|\n",
      "|     14.78|3.23|  Male|    No|Sun|Dinner|   2|0.44151015610049477|\n",
      "|     10.27|1.71|  Male|    No|Sun|Dinner|   2| 0.2337406708767325|\n",
      "|     35.26| 5.0|Female|    No|Sun|Dinner|   4| 0.6834522540255337|\n",
      "|     15.42|1.57|  Male|    No|Sun|Dinner|   2|0.21460400776401756|\n",
      "|     18.43| 3.0|  Male|    No|Sun|Dinner|   4|0.41007135241532017|\n",
      "|     14.83|3.02|Female|    No|Sun|Dinner|   2| 0.4128051614314223|\n",
      "|     21.58|3.92|  Male|    No|Sun|Dinner|   2| 0.5358265671560183|\n",
      "|     10.33|1.67|Female|    No|Sun|Dinner|   3| 0.2282730528445282|\n",
      "|     16.29|3.71|  Male|    No|Sun|Dinner|   3| 0.5071215724869459|\n",
      "|     16.97| 3.5|Female|    No|Sun|Dinner|   3|0.47841657781787356|\n",
      "|     20.65|3.35|  Male|    No|Sat|Dinner|   3|0.45791301019710756|\n",
      "+----------+----+------+------+---+------+----+-------------------+\n",
      "only showing top 20 rows\n",
      "\n"
     ]
    }
   ],
   "source": [
    "total_tip = df.select(sum('tip')).first()[0]\n",
    "df = df.withColumn('tip_percentage', (col('tip') / total_tip) * 100)\n",
    "\n",
    "df.show()"
   ]
  },
  {
   "cell_type": "markdown",
   "id": "a7dcf7e9-c3bb-41ef-8aa7-d0d30920aeb3",
   "metadata": {},
   "source": [
    "### c. Calculate the average tip percentage for each combination of sex and smoker."
   ]
  },
  {
   "cell_type": "code",
   "execution_count": 20,
   "id": "4e36d073-a1fa-4628-8418-a465d6c68034",
   "metadata": {},
   "outputs": [
    {
     "name": "stderr",
     "output_type": "stream",
     "text": [
      "\r",
      "[Stage 27:>                                                         (0 + 8) / 8]\r"
     ]
    },
    {
     "name": "stdout",
     "output_type": "stream",
     "text": [
      "+------+------+-------------------+\n",
      "|   sex|smoker| avg_tip_percentage|\n",
      "+------+------+-------------------+\n",
      "|  Male|    No|0.42557233137260037|\n",
      "|Female|    No|0.37911349661260807|\n",
      "|  Male|   Yes| 0.4170653471481815|\n",
      "|Female|   Yes| 0.4007101276026068|\n",
      "+------+------+-------------------+\n",
      "\n"
     ]
    },
    {
     "name": "stderr",
     "output_type": "stream",
     "text": [
      "\r",
      "                                                                                \r"
     ]
    }
   ],
   "source": [
    "df.groupBy('sex', 'smoker').agg(avg('tip_percentage').alias('avg_tip_percentage')).show()"
   ]
  },
  {
   "cell_type": "markdown",
   "id": "b36fcc42-c086-440f-b26b-679819f70503",
   "metadata": {},
   "source": [
    "4. Use the seattle weather dataset referenced in the lesson to answer the questions below.\n",
    "- Convert the temperatures to fahrenheit.\n",
    "- Which month has the most rain, on average?\n",
    "- Which year was the windiest?\n",
    "- What is the most frequent type of weather in January?\n",
    "- What is the average high and low temperature on sunny days in July in 2013 and 2014?\n",
    "- What percentage of days were rainy in q3 of 2015?\n",
    "- For each year, find what percentage of days it rained (had non-zero precipitation)."
   ]
  },
  {
   "cell_type": "code",
   "execution_count": 21,
   "id": "1392190b-89de-4c43-b7be-16437649a9fe",
   "metadata": {},
   "outputs": [
    {
     "name": "stdout",
     "output_type": "stream",
     "text": [
      "+----------+-------------+--------+--------+----+-------+\n",
      "|      date|precipitation|temp_max|temp_min|wind|weather|\n",
      "+----------+-------------+--------+--------+----+-------+\n",
      "|2012-01-01|          0.0|    12.8|     5.0| 4.7|drizzle|\n",
      "|2012-01-02|         10.9|    10.6|     2.8| 4.5|   rain|\n",
      "|2012-01-03|          0.8|    11.7|     7.2| 2.3|   rain|\n",
      "|2012-01-04|         20.3|    12.2|     5.6| 4.7|   rain|\n",
      "|2012-01-05|          1.3|     8.9|     2.8| 6.1|   rain|\n",
      "|2012-01-06|          2.5|     4.4|     2.2| 2.2|   rain|\n",
      "+----------+-------------+--------+--------+----+-------+\n",
      "only showing top 6 rows\n",
      "\n"
     ]
    }
   ],
   "source": [
    "from vega_datasets import data\n",
    "weather = data.seattle_weather().assign(date=lambda df: df.date.astype(str))\n",
    "df = spark.createDataFrame(weather)\n",
    "df.show(6)"
   ]
  },
  {
   "cell_type": "code",
   "execution_count": 22,
   "id": "c5cd970e-987e-4018-b3c0-00a1d59086b2",
   "metadata": {},
   "outputs": [
    {
     "name": "stdout",
     "output_type": "stream",
     "text": [
      "+----------+-------------+--------+--------+----+-------+\n",
      "|      date|precipitation|temp_max|temp_min|wind|weather|\n",
      "+----------+-------------+--------+--------+----+-------+\n",
      "|2012-01-01|          0.0|   55.04|    41.0| 4.7|drizzle|\n",
      "|2012-01-02|         10.9|   51.08|   37.04| 4.5|   rain|\n",
      "|2012-01-03|          0.8|   53.06|   44.96| 2.3|   rain|\n",
      "|2012-01-04|         20.3|   53.96|   42.08| 4.7|   rain|\n",
      "|2012-01-05|          1.3|   48.02|   37.04| 6.1|   rain|\n",
      "+----------+-------------+--------+--------+----+-------+\n",
      "only showing top 5 rows\n",
      "\n"
     ]
    }
   ],
   "source": [
    "df = df.withColumn('temp_max', (col('temp_max') * 9/5) + 32)\n",
    "df = df.withColumn('temp_min', (col('temp_min') * 9/5) + 32)\n",
    "\n",
    "df.show(5)"
   ]
  },
  {
   "cell_type": "code",
   "execution_count": 23,
   "id": "459c5128-9bd6-4456-80db-6460236cfa0d",
   "metadata": {},
   "outputs": [],
   "source": [
    "rainy_df=df.withColumn('month', month(df['date'])).groupBy('month').agg(avg('precipitation').alias('avg_rainfall')).orderBy('avg_rainfall', ascending=False)"
   ]
  },
  {
   "cell_type": "code",
   "execution_count": 24,
   "id": "d1df040e-4792-40ae-ab30-aff48fb0e5da",
   "metadata": {},
   "outputs": [
    {
     "name": "stderr",
     "output_type": "stream",
     "text": [
      "\r",
      "[Stage 32:>                                                         (0 + 8) / 8]\r"
     ]
    },
    {
     "name": "stdout",
     "output_type": "stream",
     "text": [
      "The raniest month is: 11\n"
     ]
    },
    {
     "name": "stderr",
     "output_type": "stream",
     "text": [
      "\r",
      "                                                                                \r"
     ]
    }
   ],
   "source": [
    "rdf=rainy_df.select('month').first()[0]\n",
    "#NOVEMBER\n",
    "print(\"The raniest month is:\", rdf)"
   ]
  },
  {
   "cell_type": "code",
   "execution_count": 25,
   "id": "3840e8c6-7999-404e-881f-65d93251b138",
   "metadata": {},
   "outputs": [],
   "source": [
    "wind_df=df.withColumn('year', year(df['date'])).groupBy('year').agg(avg('wind').alias('avg_wind')).orderBy('avg_wind', ascending=False)"
   ]
  },
  {
   "cell_type": "code",
   "execution_count": 26,
   "id": "e7e90633-374b-45c3-be15-f4cb114fcfe5",
   "metadata": {},
   "outputs": [
    {
     "name": "stderr",
     "output_type": "stream",
     "text": [
      "\r",
      "[Stage 35:>                                                         (0 + 8) / 8]\r"
     ]
    },
    {
     "name": "stdout",
     "output_type": "stream",
     "text": [
      "The windiest year is: 2012\n"
     ]
    },
    {
     "name": "stderr",
     "output_type": "stream",
     "text": [
      "\r",
      "                                                                                \r"
     ]
    }
   ],
   "source": [
    "year_df=wind_df.select('year').first()[0]\n",
    "print(\"The windiest year is:\", year_df)"
   ]
  },
  {
   "cell_type": "code",
   "execution_count": 27,
   "id": "88eea421-bbbc-4b77-92f2-2ad786245855",
   "metadata": {},
   "outputs": [
    {
     "name": "stderr",
     "output_type": "stream",
     "text": [
      "\r",
      "[Stage 38:>                                                         (0 + 8) / 8]\r"
     ]
    },
    {
     "name": "stdout",
     "output_type": "stream",
     "text": [
      "The most frequent type of weather in January is: fog\n"
     ]
    },
    {
     "name": "stderr",
     "output_type": "stream",
     "text": [
      "\r",
      "                                                                                \r"
     ]
    }
   ],
   "source": [
    "january_weather = df.filter(month(df['date']) == 1)\n",
    "most_frequent_weather = january_weather.groupBy('weather').count().orderBy(col('count').desc()).first()[0]\n",
    "\n",
    "print(\"The most frequent type of weather in January is:\", most_frequent_weather)"
   ]
  },
  {
   "cell_type": "code",
   "execution_count": 28,
   "id": "e161e8ac-6779-4444-86e0-98e7467f674e",
   "metadata": {},
   "outputs": [],
   "source": [
    "from pyspark.sql.functions import month, year, avg\n",
    "from pyspark.sql.types import IntegerType"
   ]
  },
  {
   "cell_type": "code",
   "execution_count": 29,
   "id": "5fdf9acd-bc77-4dc2-9dca-22ddebd1d9b5",
   "metadata": {},
   "outputs": [
    {
     "name": "stdout",
     "output_type": "stream",
     "text": [
      "Average high temperature on sunny days in July (2013 and 2014): 80\n",
      "Average low temperature on sunny days in July (2013 and 2014): 57\n"
     ]
    }
   ],
   "source": [
    "df_filtered = df.filter((month(df['date']) == 7) & (year(df['date']).isin([2013, 2014])) & (col('weather') == 'sun'))\n",
    "\n",
    "df_avg_temp = df_filtered.select(avg(col('temp_max')).cast(IntegerType()).alias('avg_high_temp'), avg(col('temp_min')).cast(IntegerType()).alias('avg_low_temp'))\n",
    "\n",
    "avg_high_temp = df_avg_temp.select('avg_high_temp').first()[0]\n",
    "avg_low_temp = df_avg_temp.select('avg_low_temp').first()[0]\n",
    "\n",
    "print(\"Average high temperature on sunny days in July (2013 and 2014):\", avg_high_temp)\n",
    "print(\"Average low temperature on sunny days in July (2013 and 2014):\", avg_low_temp)"
   ]
  },
  {
   "cell_type": "code",
   "execution_count": 30,
   "id": "f2a3f52d-2246-46a0-8103-795b3ae72420",
   "metadata": {},
   "outputs": [
    {
     "name": "stdout",
     "output_type": "stream",
     "text": [
      "Percentage of rainy days in Q3 2015: 2.1739130434782608\n"
     ]
    }
   ],
   "source": [
    "q3_2015_rainy_days = df.filter((year(df['date']) == 2015) & (quarter(df['date']) == 3) & (col('weather') == 'rain'))\n",
    "total_days_q3_2015 = df.filter((year(df['date']) == 2015) & (quarter(df['date']) == 3)).count()\n",
    "\n",
    "rainy_days_percentage = (q3_2015_rainy_days.count() / total_days_q3_2015) * 100\n",
    "\n",
    "print(\"Percentage of rainy days in Q3 2015:\", rainy_days_percentage)"
   ]
  },
  {
   "cell_type": "code",
   "execution_count": 31,
   "id": "f637c601-8094-4e24-bbb4-193cf42f5ad6",
   "metadata": {},
   "outputs": [
    {
     "name": "stderr",
     "output_type": "stream",
     "text": [
      "\r",
      "[Stage 53:>                                                         (0 + 8) / 8]\r"
     ]
    },
    {
     "name": "stdout",
     "output_type": "stream",
     "text": [
      "+----------+---------------------+\n",
      "|year(date)|rainy_days_percentage|\n",
      "+----------+---------------------+\n",
      "|      2012|                100.0|\n",
      "|      2013|                100.0|\n",
      "|      2014|                100.0|\n",
      "|      2015|                100.0|\n",
      "+----------+---------------------+\n",
      "\n"
     ]
    },
    {
     "name": "stderr",
     "output_type": "stream",
     "text": [
      "\r",
      "                                                                                \r"
     ]
    }
   ],
   "source": [
    "yearly_rain_days = df.filter(col('precipitation') > 0).groupBy(year('date')).agg((count('*') / count('date') * 100).alias('rainy_days_percentage')).orderBy(year('date'))\n",
    "\n",
    "yearly_rain_days.show()"
   ]
  },
  {
   "cell_type": "code",
   "execution_count": null,
   "id": "f626f1fd-638c-4caf-ae12-6651e62f0da8",
   "metadata": {},
   "outputs": [],
   "source": []
  }
 ],
 "metadata": {
  "kernelspec": {
   "display_name": "Python 3 (ipykernel)",
   "language": "python",
   "name": "python3"
  },
  "language_info": {
   "codemirror_mode": {
    "name": "ipython",
    "version": 3
   },
   "file_extension": ".py",
   "mimetype": "text/x-python",
   "name": "python",
   "nbconvert_exporter": "python",
   "pygments_lexer": "ipython3",
   "version": "3.10.9"
  },
  "varInspector": {
   "cols": {
    "lenName": 16,
    "lenType": 16,
    "lenVar": 40
   },
   "kernels_config": {
    "python": {
     "delete_cmd_postfix": "",
     "delete_cmd_prefix": "del ",
     "library": "var_list.py",
     "varRefreshCmd": "print(var_dic_list())"
    },
    "r": {
     "delete_cmd_postfix": ") ",
     "delete_cmd_prefix": "rm(",
     "library": "var_list.r",
     "varRefreshCmd": "cat(var_dic_list()) "
    }
   },
   "types_to_exclude": [
    "module",
    "function",
    "builtin_function_or_method",
    "instance",
    "_Feature"
   ],
   "window_display": false
  }
 },
 "nbformat": 4,
 "nbformat_minor": 5
}
