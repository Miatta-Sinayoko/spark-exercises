{
 "cells": [
  {
   "cell_type": "markdown",
   "id": "4a66bada",
   "metadata": {},
   "source": [
    "# Spark 101 Exercise"
   ]
  },
  {
   "cell_type": "code",
   "execution_count": null,
   "id": "fefa83a4-367f-43de-8d98-20c65238973b",
   "metadata": {},
   "outputs": [],
   "source": [
    "# Import libraries\n",
    "import pandas as pd\n",
    "import numpy as np\n",
    "from pydataset import data\n",
    "from vega_datasets import data\n",
    "from pyspark.sql.functions import col,min, max, sum, count, mean, avg,round,expr,concat,lit\n",
    "from pyspark.sql.functions import regexp_extract, regexp_replace,when,month, year, quarter\n",
    "spark = pyspark.sql.SparkSession.builder.getOrCreate()\n",
    "\n",
    "# Ignre warnings\n",
    "import warnings\n",
    "warnings.filterwarnings('ignore')\n",
    "\n"
   ]
  },
  {
   "cell_type": "markdown",
   "id": "a164c495-b477-40bb-a67b-454b622b48f4",
   "metadata": {},
   "source": [
    "# 1. Create a spark data frame that contains your favorite programming languages."
   ]
  },
  {
   "cell_type": "code",
   "execution_count": null,
   "id": "26356f6b-a386-4087-afdc-7ae46be9a50d",
   "metadata": {},
   "outputs": [],
   "source": [
    "lang_list=('R','Python','JavaScrip','Java','Ruby','Rust','SQL','HTML','CSS')\n",
    "language_df = pd.DataFrame(lang_list,columns=['language']\n",
    "    \n",
    ")\n",
    "\n",
    "language_df.head()"
   ]
  },
  {
   "cell_type": "code",
   "execution_count": null,
   "id": "7f1dcee5-8a7d-433a-888c-502245f5c2fc",
   "metadata": {},
   "outputs": [],
   "source": [
    "df = spark.createDataFrame(language_df)"
   ]
  },
  {
   "cell_type": "code",
   "execution_count": null,
   "id": "ef548c0d-ad48-4703-ad06-674c72d089de",
   "metadata": {},
   "outputs": [],
   "source": [
    "df.show()"
   ]
  },
  {
   "cell_type": "code",
   "execution_count": null,
   "id": "a76b49c8-1b92-45f7-8523-aa5718f3bda5",
   "metadata": {},
   "outputs": [],
   "source": [
    "df.printSchema()"
   ]
  },
  {
   "cell_type": "code",
   "execution_count": null,
   "id": "68c93e52-07e9-4b0c-af19-91087d5706a6",
   "metadata": {},
   "outputs": [],
   "source": [
    "df.count(),len(df.columns)"
   ]
  },
  {
   "cell_type": "code",
   "execution_count": null,
   "id": "530f6510-b09a-40ec-a855-8e1cb9b8c76c",
   "metadata": {},
   "outputs": [],
   "source": [
    "df.show(5)"
   ]
  },
  {
   "cell_type": "markdown",
   "id": "18c07116-91b7-4998-a0c5-d16aa57c61d8",
   "metadata": {},
   "source": [
    "# 2. Load the mpg dataset as a spark dataframe."
   ]
  },
  {
   "cell_type": "code",
   "execution_count": null,
   "id": "ddfa3962-20f0-48e8-a8f9-d0b6f592784a",
   "metadata": {},
   "outputs": [],
   "source": [
    "from pydataset import data\n",
    "df = spark.createDataFrame(data('mpg'))\n",
    "df"
   ]
  },
  {
   "cell_type": "code",
   "execution_count": null,
   "id": "bab616ad-108d-4521-9dd0-84b1aa7af790",
   "metadata": {},
   "outputs": [],
   "source": [
    "df.show(5)"
   ]
  },
  {
   "cell_type": "markdown",
   "id": "2269b39a-061b-4a19-aa4b-7c2292daf496",
   "metadata": {},
   "source": [
    "### a.Create 1 column of output that contains a message like the one below:\n",
    "The 1999 audi a4 has a 4 cylinder engine."
   ]
  },
  {
   "cell_type": "code",
   "execution_count": null,
   "id": "1b03bf23-67e3-480f-8dc5-3a25e82b2b96",
   "metadata": {},
   "outputs": [],
   "source": [
    "year_manufacturer_model = df.select('year', 'manufacturer', 'model').collect()[0]\n",
    "cylinder = df.select('cyl').collect()[0][0]\n",
    "\n",
    "print(f\"The {year_manufacturer_model['year']} {year_manufacturer_model['manufacturer']} {year_manufacturer_model['model']} has a {cylinder} cylinder engine.\")\n"
   ]
  },
  {
   "cell_type": "code",
   "execution_count": null,
   "id": "1cfb371f-cf36-4e55-be45-0614b3709364",
   "metadata": {},
   "outputs": [],
   "source": [
    "df = df.withColumn(\n",
    "    'engine_description',\n",
    "    concat(\n",
    "        lit(\"The \"),\n",
    "        df['year'],\n",
    "        lit(\" \"),\n",
    "        df['manufacturer'],\n",
    "        lit(\" \"),\n",
    "        df['model'],\n",
    "        lit(\" has a \"),\n",
    "        df['cyl'],\n",
    "        lit(\" cylinder engine.\")\n",
    "    )\n",
    ")\n",
    "\n",
    "df.show(truncate=False)"
   ]
  },
  {
   "cell_type": "markdown",
   "id": "85aa08db-c436-4880-9c37-854088d2944b",
   "metadata": {},
   "source": [
    "### For each vehicle.\n",
    "\n",
    "b. Transform the trans column so that it only contains either manual or auto."
   ]
  },
  {
   "cell_type": "code",
   "execution_count": null,
   "id": "a3db2fa2-9f2f-4703-95ee-13da341e985e",
   "metadata": {},
   "outputs": [],
   "source": [
    "df.select(\n",
    "    regexp_extract(df['trans'], r'^(manual|auto)', 1).alias('clean_trans')\n",
    ").show(truncate=False)"
   ]
  },
  {
   "cell_type": "code",
   "execution_count": null,
   "id": "34186b9c-72cf-43d8-b2df-4268341e818b",
   "metadata": {},
   "outputs": [],
   "source": [
    "df = df.withColumn(\n",
    "    'engine_description',\n",
    "    concat(\n",
    "        lit(\"The \"),\n",
    "        df['year'],\n",
    "        lit(\" \"),\n",
    "        df['manufacturer'],\n",
    "        lit(\" \"),\n",
    "        df['model'],\n",
    "        lit(\" has a \"),\n",
    "        df['cyl'],\n",
    "        lit(\" cylinder engine.\") )\n",
    ")\n",
    "\n",
    "df.show(truncate=False)"
   ]
  },
  {
   "cell_type": "code",
   "execution_count": null,
   "id": "f8a45c3e-0d24-4ea5-9fe5-205880a3bae8",
   "metadata": {},
   "outputs": [],
   "source": [
    "df = df.withColumn('clean_trans', regexp_extract(df['trans'], r'^(manual|auto)', 1))\n",
    "\n",
    "df.show(truncate=False)"
   ]
  },
  {
   "cell_type": "markdown",
   "id": "f3d39226-ea2f-48d1-881e-e8df9ce13042",
   "metadata": {},
   "source": [
    "## 3. Load the tips dataset as a spark dataframe."
   ]
  },
  {
   "cell_type": "code",
   "execution_count": null,
   "id": "fe826d05-43e5-4428-b806-67499b33b965",
   "metadata": {},
   "outputs": [],
   "source": [
    "df = spark.createDataFrame(data('tips'))\n",
    "df"
   ]
  },
  {
   "cell_type": "code",
   "execution_count": null,
   "id": "33be8e91-3c60-479f-a307-331e3addb214",
   "metadata": {},
   "outputs": [],
   "source": [
    "df.show(5)"
   ]
  },
  {
   "cell_type": "markdown",
   "id": "e782e057-b9cc-42ee-9166-ab28312328e8",
   "metadata": {},
   "source": [
    "### a. What percentage of observations are smokers?"
   ]
  },
  {
   "cell_type": "code",
   "execution_count": null,
   "id": "742d160a-e85f-467b-9d1d-9c302f3585b7",
   "metadata": {},
   "outputs": [],
   "source": [
    "df.groupBy().agg((count(when(df.smoker == 'Yes', True)) / count('*') * 100)).show()"
   ]
  },
  {
   "cell_type": "markdown",
   "id": "d41c0314-07eb-4324-845d-56c240241ed7",
   "metadata": {
    "tags": []
   },
   "source": [
    "### b. Create a column that contains the tip percentage\n"
   ]
  },
  {
   "cell_type": "code",
   "execution_count": null,
   "id": "a379a4c3-2a55-4007-86e6-804541e38f2d",
   "metadata": {
    "tags": []
   },
   "outputs": [],
   "source": [
    "df.groupBy().agg((count(df.tip) / count('total_bill'))).show()"
   ]
  },
  {
   "cell_type": "code",
   "execution_count": null,
   "id": "155f5c52-a3ec-46cc-8754-a046b59db3ec",
   "metadata": {},
   "outputs": [],
   "source": [
    "total_tip = df.select(sum('tip')).first()[0]\n",
    "df = df.withColumn('tip_percentage', (col('tip') / total_tip) * 100)\n",
    "\n",
    "df.show()"
   ]
  },
  {
   "cell_type": "markdown",
   "id": "a7dcf7e9-c3bb-41ef-8aa7-d0d30920aeb3",
   "metadata": {},
   "source": [
    "### c. Calculate the average tip percentage for each combination of sex and smoker."
   ]
  },
  {
   "cell_type": "code",
   "execution_count": null,
   "id": "4e36d073-a1fa-4628-8418-a465d6c68034",
   "metadata": {},
   "outputs": [],
   "source": [
    "df.groupBy('sex', 'smoker').agg(avg('tip_percentage').alias('avg_tip_percentage')).show()"
   ]
  },
  {
   "cell_type": "markdown",
   "id": "b36fcc42-c086-440f-b26b-679819f70503",
   "metadata": {},
   "source": [
    "4. Use the seattle weather dataset referenced in the lesson to answer the questions below.\n",
    "- Convert the temperatures to fahrenheit.\n",
    "- Which month has the most rain, on average?\n",
    "- Which year was the windiest?\n",
    "- What is the most frequent type of weather in January?\n",
    "- What is the average high and low temperature on sunny days in July in 2013 and 2014?\n",
    "- What percentage of days were rainy in q3 of 2015?\n",
    "- For each year, find what percentage of days it rained (had non-zero precipitation)."
   ]
  },
  {
   "cell_type": "code",
   "execution_count": null,
   "id": "1392190b-89de-4c43-b7be-16437649a9fe",
   "metadata": {},
   "outputs": [],
   "source": [
    "from vega_datasets import data\n",
    "weather = data.seattle_weather().assign(date=lambda df: df.date.astype(str))\n",
    "df = spark.createDataFrame(weather)\n",
    "df.show(6)"
   ]
  },
  {
   "cell_type": "code",
   "execution_count": null,
   "id": "c5cd970e-987e-4018-b3c0-00a1d59086b2",
   "metadata": {},
   "outputs": [],
   "source": [
    "df = df.withColumn('temp_max', (col('temp_max') * 9/5) + 32)\n",
    "df = df.withColumn('temp_min', (col('temp_min') * 9/5) + 32)\n",
    "\n",
    "df.show(5)"
   ]
  },
  {
   "cell_type": "code",
   "execution_count": null,
   "id": "459c5128-9bd6-4456-80db-6460236cfa0d",
   "metadata": {},
   "outputs": [],
   "source": [
    "rainy_df=df.withColumn('month', month(df['date'])).groupBy('month').agg(avg('precipitation').alias('avg_rainfall')).orderBy('avg_rainfall', ascending=False)"
   ]
  },
  {
   "cell_type": "code",
   "execution_count": null,
   "id": "d1df040e-4792-40ae-ab30-aff48fb0e5da",
   "metadata": {},
   "outputs": [],
   "source": [
    "rdf=rainy_df.select('month').first()[0]\n",
    "#NOVEMBER\n",
    "print(\"The raniest month is:\", rdf)"
   ]
  },
  {
   "cell_type": "code",
   "execution_count": null,
   "id": "3840e8c6-7999-404e-881f-65d93251b138",
   "metadata": {},
   "outputs": [],
   "source": [
    "wind_df=df.withColumn('year', year(df['date'])).groupBy('year').agg(avg('wind').alias('avg_wind')).orderBy('avg_wind', ascending=False)"
   ]
  },
  {
   "cell_type": "code",
   "execution_count": null,
   "id": "e7e90633-374b-45c3-be15-f4cb114fcfe5",
   "metadata": {},
   "outputs": [],
   "source": [
    "year_df=wind_df.select('year').first()[0]\n",
    "print(\"The windiest year is:\", year_df)"
   ]
  },
  {
   "cell_type": "code",
   "execution_count": null,
   "id": "88eea421-bbbc-4b77-92f2-2ad786245855",
   "metadata": {},
   "outputs": [],
   "source": [
    "january_weather = df.filter(month(df['date']) == 1)\n",
    "most_frequent_weather = january_weather.groupBy('weather').count().orderBy(col('count').desc()).first()[0]\n",
    "\n",
    "print(\"The most frequent type of weather in January is:\", most_frequent_weather)"
   ]
  },
  {
   "cell_type": "code",
   "execution_count": null,
   "id": "e161e8ac-6779-4444-86e0-98e7467f674e",
   "metadata": {},
   "outputs": [],
   "source": [
    "from pyspark.sql.functions import month, year, avg\n",
    "from pyspark.sql.types import IntegerType"
   ]
  },
  {
   "cell_type": "code",
   "execution_count": null,
   "id": "5fdf9acd-bc77-4dc2-9dca-22ddebd1d9b5",
   "metadata": {},
   "outputs": [],
   "source": [
    "df_filtered = df.filter((month(df['date']) == 7) & (year(df['date']).isin([2013, 2014])) & (col('weather') == 'sun'))\n",
    "\n",
    "df_avg_temp = df_filtered.select(avg(col('temp_max')).cast(IntegerType()).alias('avg_high_temp'), avg(col('temp_min')).cast(IntegerType()).alias('avg_low_temp'))\n",
    "\n",
    "avg_high_temp = df_avg_temp.select('avg_high_temp').first()[0]\n",
    "avg_low_temp = df_avg_temp.select('avg_low_temp').first()[0]\n",
    "\n",
    "print(\"Average high temperature on sunny days in July (2013 and 2014):\", avg_high_temp)\n",
    "print(\"Average low temperature on sunny days in July (2013 and 2014):\", avg_low_temp)"
   ]
  },
  {
   "cell_type": "code",
   "execution_count": null,
   "id": "f2a3f52d-2246-46a0-8103-795b3ae72420",
   "metadata": {},
   "outputs": [],
   "source": [
    "q3_2015_rainy_days = df.filter((year(df['date']) == 2015) & (quarter(df['date']) == 3) & (col('weather') == 'rain'))\n",
    "total_days_q3_2015 = df.filter((year(df['date']) == 2015) & (quarter(df['date']) == 3)).count()\n",
    "\n",
    "rainy_days_percentage = (q3_2015_rainy_days.count() / total_days_q3_2015) * 100\n",
    "\n",
    "print(\"Percentage of rainy days in Q3 2015:\", rainy_days_percentage)"
   ]
  },
  {
   "cell_type": "code",
   "execution_count": null,
   "id": "f637c601-8094-4e24-bbb4-193cf42f5ad6",
   "metadata": {},
   "outputs": [],
   "source": [
    "yearly_rain_days = df.filter(col('precipitation') > 0).groupBy(year('date')).agg((count('*') / count('date') * 100).alias('rainy_days_percentage')).orderBy(year('date'))\n",
    "\n",
    "yearly_rain_days.show()"
   ]
  },
  {
   "cell_type": "code",
   "execution_count": null,
   "id": "f626f1fd-638c-4caf-ae12-6651e62f0da8",
   "metadata": {},
   "outputs": [],
   "source": []
  }
 ],
 "metadata": {
  "kernelspec": {
   "display_name": "Python 3 (ipykernel)",
   "language": "python",
   "name": "python3"
  },
  "language_info": {
   "codemirror_mode": {
    "name": "ipython",
    "version": 3
   },
   "file_extension": ".py",
   "mimetype": "text/x-python",
   "name": "python",
   "nbconvert_exporter": "python",
   "pygments_lexer": "ipython3",
   "version": "3.10.9"
  },
  "varInspector": {
   "cols": {
    "lenName": 16,
    "lenType": 16,
    "lenVar": 40
   },
   "kernels_config": {
    "python": {
     "delete_cmd_postfix": "",
     "delete_cmd_prefix": "del ",
     "library": "var_list.py",
     "varRefreshCmd": "print(var_dic_list())"
    },
    "r": {
     "delete_cmd_postfix": ") ",
     "delete_cmd_prefix": "rm(",
     "library": "var_list.r",
     "varRefreshCmd": "cat(var_dic_list()) "
    }
   },
   "types_to_exclude": [
    "module",
    "function",
    "builtin_function_or_method",
    "instance",
    "_Feature"
   ],
   "window_display": false
  }
 },
 "nbformat": 4,
 "nbformat_minor": 5
}
