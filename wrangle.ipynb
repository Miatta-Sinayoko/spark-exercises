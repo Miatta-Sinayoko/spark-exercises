{
 "cells": [
  {
   "cell_type": "markdown",
   "id": "5dc70918",
   "metadata": {},
   "source": [
    "# Spark wrangle"
   ]
  },
  {
   "cell_type": "code",
   "execution_count": 1,
   "id": "c868db7d",
   "metadata": {},
   "outputs": [
    {
     "name": "stderr",
     "output_type": "stream",
     "text": [
      "Setting default log level to \"WARN\".\n",
      "To adjust logging level use sc.setLogLevel(newLevel). For SparkR, use setLogLevel(newLevel).\n",
      "23/08/23 11:24:46 WARN NativeCodeLoader: Unable to load native-hadoop library for your platform... using builtin-java classes where applicable\n",
      "23/08/23 11:24:47 WARN Utils: Service 'SparkUI' could not bind on port 4040. Attempting port 4041.\n"
     ]
    }
   ],
   "source": [
    "# Imports\n",
    "from pyspark.sql import SparkSession\n",
    "from pyspark.sql.functions import *\n",
    "\n",
    "spark = SparkSession.builder.getOrCreate()"
   ]
  },
  {
   "cell_type": "markdown",
   "id": "d672f4b2",
   "metadata": {},
   "source": [
    "# ACQUIRE"
   ]
  },
  {
   "cell_type": "markdown",
   "id": "adaec5a5",
   "metadata": {},
   "source": [
    "## 1. Read the case, department, and source data into their own spark dataframes."
   ]
  },
  {
   "cell_type": "code",
   "execution_count": 3,
   "id": "ea038e4b",
   "metadata": {},
   "outputs": [
    {
     "name": "stderr",
     "output_type": "stream",
     "text": [
      "                                                                                \r"
     ]
    },
    {
     "name": "stdout",
     "output_type": "stream",
     "text": [
      "+----------+----------------+----------------+------------+---------+-------------------+-----------+----------------+--------------------+-----------+-----------+---------+--------------------+----------------+\n",
      "|   case_id|case_opened_date|case_closed_date|SLA_due_date|case_late|      num_days_late|case_closed|   dept_division|service_request_type|   SLA_days|case_status|source_id|     request_address|council_district|\n",
      "+----------+----------------+----------------+------------+---------+-------------------+-----------+----------------+--------------------+-----------+-----------+---------+--------------------+----------------+\n",
      "|1014127332|     1/1/18 0:42|    1/1/18 12:29|9/26/20 0:42|       NO| -998.5087616000001|        YES|Field Operations|        Stray Animal|      999.0|     Closed| svcCRMLS|2315  EL PASO ST,...|               5|\n",
      "|1014127333|     1/1/18 0:46|     1/3/18 8:11| 1/5/18 8:30|       NO|-2.0126041669999997|        YES|     Storm Water|Removal Of Obstru...|4.322222222|     Closed| svcCRMSS|2215  GOLIAD RD, ...|               3|\n",
      "|1014127334|     1/1/18 0:48|     1/2/18 7:57| 1/5/18 8:30|       NO|       -3.022337963|        YES|     Storm Water|Removal Of Obstru...|4.320729167|     Closed| svcCRMSS|102  PALFREY ST W...|               3|\n",
      "|1014127335|     1/1/18 1:29|     1/2/18 8:13|1/17/18 8:30|       NO|       -15.01148148|        YES|Code Enforcement|Front Or Side Yar...|16.29188657|     Closed| svcCRMSS|114  LA GARDE ST,...|               3|\n",
      "|1014127336|     1/1/18 1:34|    1/1/18 13:29| 1/1/18 4:34|      YES|0.37216435200000003|        YES|Field Operations|Animal Cruelty(Cr...|      0.125|     Closed| svcCRMSS|734  CLEARVIEW DR...|               7|\n",
      "+----------+----------------+----------------+------------+---------+-------------------+-----------+----------------+--------------------+-----------+-----------+---------+--------------------+----------------+\n",
      "only showing top 5 rows\n",
      "\n"
     ]
    }
   ],
   "source": [
    "case = spark.read.csv('case.csv', sep=',', header=True, inferSchema=True)\n",
    "case.show(5)"
   ]
  },
  {
   "cell_type": "markdown",
   "id": "6445c93e",
   "metadata": {},
   "source": [
    "# 2. Let's see how writing to the local disk works in spark:\n",
    "\n",
    "- Write the code necessary to store the source data in both csv and json format, store these as sources_csv and sources_json\n",
    "- Inspect your folder structure. What do you notice?"
   ]
  },
  {
   "cell_type": "code",
   "execution_count": 4,
   "id": "847579f4",
   "metadata": {},
   "outputs": [],
   "source": [
    "dept = spark.read.csv('dept.csv', sep=',', header=True, inferSchema=True)\n",
    "source = spark.read.csv('source.csv', sep=',', header=True, inferSchema=True)"
   ]
  },
  {
   "cell_type": "code",
   "execution_count": 5,
   "id": "66fd0892",
   "metadata": {},
   "outputs": [],
   "source": [
    "source.write.csv('sources_csv', mode='overwrite')\n",
    "source.write.json('sources_json', mode='overwrite')"
   ]
  },
  {
   "cell_type": "code",
   "execution_count": 6,
   "id": "5fe51a3a",
   "metadata": {},
   "outputs": [
    {
     "name": "stdout",
     "output_type": "stream",
     "text": [
      "root\n",
      " |-- dept_division: string (nullable = true)\n",
      " |-- dept_name: string (nullable = true)\n",
      " |-- standardized_dept_name: string (nullable = true)\n",
      " |-- dept_subject_to_SLA: string (nullable = true)\n",
      "\n"
     ]
    }
   ],
   "source": [
    "dept.printSchema()"
   ]
  },
  {
   "cell_type": "code",
   "execution_count": 7,
   "id": "01c3f116",
   "metadata": {},
   "outputs": [
    {
     "name": "stdout",
     "output_type": "stream",
     "text": [
      "root\n",
      " |-- source_id: string (nullable = true)\n",
      " |-- source_username: string (nullable = true)\n",
      "\n"
     ]
    }
   ],
   "source": [
    "source.printSchema()"
   ]
  },
  {
   "cell_type": "markdown",
   "id": "778e4b90",
   "metadata": {},
   "source": [
    "\n",
    "# 3. Inspect the data in your dataframes. Are the data types appropriate? Write the code necessary to cast the values to the appropriate types."
   ]
  },
  {
   "cell_type": "code",
   "execution_count": 8,
   "id": "2db9d210",
   "metadata": {},
   "outputs": [
    {
     "name": "stdout",
     "output_type": "stream",
     "text": [
      "root\n",
      " |-- case_id: integer (nullable = true)\n",
      " |-- case_opened_date: string (nullable = true)\n",
      " |-- case_closed_date: string (nullable = true)\n",
      " |-- SLA_due_date: string (nullable = true)\n",
      " |-- case_late: string (nullable = true)\n",
      " |-- num_days_late: double (nullable = true)\n",
      " |-- case_closed: string (nullable = true)\n",
      " |-- dept_division: string (nullable = true)\n",
      " |-- service_request_type: string (nullable = true)\n",
      " |-- SLA_days: double (nullable = true)\n",
      " |-- case_status: string (nullable = true)\n",
      " |-- source_id: string (nullable = true)\n",
      " |-- request_address: string (nullable = true)\n",
      " |-- council_district: integer (nullable = true)\n",
      "\n"
     ]
    }
   ],
   "source": [
    "case.printSchema()"
   ]
  },
  {
   "cell_type": "code",
   "execution_count": 9,
   "id": "bf4a23de",
   "metadata": {},
   "outputs": [],
   "source": [
    "case = case.withColumnRenamed('SLA_due_date', 'case_due_date')"
   ]
  },
  {
   "cell_type": "code",
   "execution_count": 10,
   "id": "e8603de0",
   "metadata": {},
   "outputs": [
    {
     "name": "stdout",
     "output_type": "stream",
     "text": [
      "+-----------+---------+\n",
      "|case_closed|case_late|\n",
      "+-----------+---------+\n",
      "|       true|    false|\n",
      "|       true|    false|\n",
      "|       true|    false|\n",
      "|       true|    false|\n",
      "|       true|     true|\n",
      "+-----------+---------+\n",
      "only showing top 5 rows\n",
      "\n"
     ]
    }
   ],
   "source": [
    "case = case.withColumn('case_closed', expr('case_closed == \"YES\"'))\\\n",
    "           .withColumn('case_late', expr('case_late == \"YES\"'))\n",
    "\n",
    "case.select('case_closed', 'case_late').show(5)"
   ]
  },
  {
   "cell_type": "code",
   "execution_count": 11,
   "id": "2fb0ab1f",
   "metadata": {
    "scrolled": true
   },
   "outputs": [
    {
     "name": "stdout",
     "output_type": "stream",
     "text": [
      "+-------------------+-------------------+-------------------+\n",
      "|   case_opened_date|   case_closed_date|      case_due_date|\n",
      "+-------------------+-------------------+-------------------+\n",
      "|2018-01-01 00:42:00|2018-01-01 12:29:00|2020-09-26 00:42:00|\n",
      "|2018-01-01 00:46:00|2018-01-03 08:11:00|2018-01-05 08:30:00|\n",
      "|2018-01-01 00:48:00|2018-01-02 07:57:00|2018-01-05 08:30:00|\n",
      "|2018-01-01 01:29:00|2018-01-02 08:13:00|2018-01-17 08:30:00|\n",
      "|2018-01-01 01:34:00|2018-01-01 13:29:00|2018-01-01 04:34:00|\n",
      "+-------------------+-------------------+-------------------+\n",
      "only showing top 5 rows\n",
      "\n"
     ]
    }
   ],
   "source": [
    "fmt = 'M/d/yy H:mm'\n",
    "\n",
    "case = case.withColumn(\"case_opened_date\", to_timestamp(\"case_opened_date\", fmt))\\\n",
    "           .withColumn(\"case_closed_date\", to_timestamp(\"case_closed_date\", fmt))\\\n",
    "           .withColumn(\"case_due_date\", to_timestamp(\"case_due_date\", fmt))\n",
    "\n",
    "case.select('case_opened_date', 'case_closed_date', 'case_due_date').show(5)"
   ]
  },
  {
   "cell_type": "markdown",
   "id": "8a608d05",
   "metadata": {},
   "source": [
    "## 1. How old is the latest (in terms of days past SLA) currently open issue? How long has the oldest (in terms of days since opened) currently opened issue been open?"
   ]
  },
  {
   "cell_type": "code",
   "execution_count": 12,
   "id": "2df8e6bd",
   "metadata": {},
   "outputs": [
    {
     "name": "stderr",
     "output_type": "stream",
     "text": [
      "[Stage 11:====>                                                   (1 + 11) / 12]\r"
     ]
    },
    {
     "name": "stdout",
     "output_type": "stream",
     "text": [
      "+-------------------+-------------------+------------------+\n",
      "|   case_opened_date|      case_due_date|     num_days_late|\n",
      "+-------------------+-------------------+------------------+\n",
      "|2017-01-01 13:57:00|2017-01-17 08:30:00|       348.6458333|\n",
      "|2017-01-01 13:48:00|2017-01-17 08:30:00|       348.6458333|\n",
      "|2017-01-02 11:26:00|2017-01-17 11:26:00|348.52356480000003|\n",
      "|2017-01-03 10:01:00|2017-01-18 10:01:00|347.58256939999995|\n",
      "|2017-01-05 14:39:00|2017-01-20 14:39:00|       345.3894213|\n",
      "+-------------------+-------------------+------------------+\n",
      "only showing top 5 rows\n",
      "\n"
     ]
    },
    {
     "name": "stderr",
     "output_type": "stream",
     "text": [
      "\r\n",
      "[Stage 11:==========================================>              (9 + 3) / 12]\r\n",
      "\r\n",
      "                                                                                \r"
     ]
    }
   ],
   "source": [
    "case.filter('! case_closed')\\\n",
    "    .select('case_opened_date', 'case_due_date', 'num_days_late')\\\n",
    "    .sort(desc('num_days_late'))\\\n",
    "    .show(5)"
   ]
  },
  {
   "cell_type": "code",
   "execution_count": 13,
   "id": "04114278",
   "metadata": {},
   "outputs": [
    {
     "name": "stdout",
     "output_type": "stream",
     "text": [
      "+-------------------+-------------------+-----------+\n",
      "|   case_opened_date|      case_due_date|   SLA_days|\n",
      "+-------------------+-------------------+-----------+\n",
      "|2017-09-22 08:27:00|2021-08-11 08:30:00| 1419.00191|\n",
      "|2017-11-03 14:05:00|2021-09-22 14:05:00|     1419.0|\n",
      "|2017-11-21 06:57:00|2021-10-07 08:30:00|1416.063981|\n",
      "|2017-12-03 12:59:00|2021-10-18 08:30:00|1414.813009|\n",
      "|2017-01-06 08:24:00|2020-11-12 08:30:00|1406.003623|\n",
      "+-------------------+-------------------+-----------+\n",
      "only showing top 5 rows\n",
      "\n"
     ]
    },
    {
     "name": "stderr",
     "output_type": "stream",
     "text": [
      "\r\n",
      "[Stage 12:====>                                                   (1 + 11) / 12]\r\n",
      "\r\n",
      "                                                                                \r"
     ]
    }
   ],
   "source": [
    "case.filter('! case_closed')\\\n",
    "    .select('case_opened_date', 'case_due_date', 'SLA_days')\\\n",
    "    .sort(desc('SLA_days'))\\\n",
    "    .show(5)"
   ]
  },
  {
   "cell_type": "code",
   "execution_count": 14,
   "id": "4263d56b",
   "metadata": {},
   "outputs": [
    {
     "name": "stdout",
     "output_type": "stream",
     "text": [
      "+-------------------+\n",
      "|   case_opened_date|\n",
      "+-------------------+\n",
      "|2017-01-01 13:48:00|\n",
      "|2017-01-01 13:57:00|\n",
      "|2017-01-02 11:26:00|\n",
      "|2017-01-03 10:01:00|\n",
      "|2017-01-04 09:42:00|\n",
      "+-------------------+\n",
      "only showing top 5 rows\n",
      "\n"
     ]
    }
   ],
   "source": [
    "case.filter('! case_closed')\\\n",
    "    .select('case_opened_date')\\\n",
    "    .sort(asc('case_opened_date'))\\\n",
    "    .show(5)"
   ]
  },
  {
   "cell_type": "markdown",
   "id": "0e5fc846",
   "metadata": {},
   "source": [
    "## 2. How many Stray Animal cases are there?"
   ]
  },
  {
   "cell_type": "code",
   "execution_count": 15,
   "id": "bed05140",
   "metadata": {},
   "outputs": [
    {
     "name": "stderr",
     "output_type": "stream",
     "text": [
      "\r\n",
      "[Stage 14:>                                                       (0 + 12) / 12]\r"
     ]
    },
    {
     "name": "stdout",
     "output_type": "stream",
     "text": [
      "+---------------------------------+-----+\n",
      "|service_request_type             |count|\n",
      "+---------------------------------+-----+\n",
      "|No Pickup                        |86855|\n",
      "|Overgrown Yard/Trash             |65895|\n",
      "|Bandit Signs                     |32910|\n",
      "|Damaged Cart                     |30338|\n",
      "|Front Or Side Yard Parking       |28794|\n",
      "|Stray Animal                     |26760|\n",
      "|Aggressive Animal(Non-Critical)  |24882|\n",
      "|Cart Exchange Request            |22024|\n",
      "|Junk Vehicle On Private Property |21473|\n",
      "|Pot Hole Repair                  |20616|\n",
      "|Alley-Way Maintenance            |20214|\n",
      "|Lost/Stolen Cart                 |18731|\n",
      "|Right Of Way/Sidewalk Obstruction|17699|\n",
      "|Dead Animal - Dog                |16714|\n",
      "|Cart Delivery                    |15471|\n",
      "|Dead Animal - Cat                |14983|\n",
      "|Animal Neglect                   |13441|\n",
      "|Dead Animal - Misc               |13234|\n",
      "|Trapped/Confined Animal          |11354|\n",
      "|Public Nuisance(Own Animal)      |10715|\n",
      "+---------------------------------+-----+\n",
      "only showing top 20 rows\n",
      "\n"
     ]
    },
    {
     "name": "stderr",
     "output_type": "stream",
     "text": [
      "\r\n",
      "                                                                                \r"
     ]
    }
   ],
   "source": [
    "case.groupby('service_request_type')\\\n",
    "    .count()\\\n",
    "    .sort(desc('count'))\\\n",
    "    .show(truncate=False)"
   ]
  },
  {
   "cell_type": "code",
   "execution_count": 16,
   "id": "38315e34",
   "metadata": {},
   "outputs": [
    {
     "data": {
      "text/plain": [
       "26760"
      ]
     },
     "execution_count": 16,
     "metadata": {},
     "output_type": "execute_result"
    }
   ],
   "source": [
    "case.filter(case.service_request_type == lit('Stray Animal')).count()"
   ]
  },
  {
   "cell_type": "markdown",
   "id": "b200de12",
   "metadata": {},
   "source": [
    "## 3. How many service requests that are assigned to the Field Operations department (dept_division) are not classified as \"Officer Standby\" request type (service_request_type)?"
   ]
  },
  {
   "cell_type": "code",
   "execution_count": 17,
   "id": "e8859f80",
   "metadata": {},
   "outputs": [
    {
     "data": {
      "text/plain": [
       "113902"
      ]
     },
     "execution_count": 17,
     "metadata": {},
     "output_type": "execute_result"
    }
   ],
   "source": [
    "case.filter(case.dept_division == 'Field Operations')\\\n",
    "    .filter(case.service_request_type != 'Officer Standby')\\\n",
    "    .count()"
   ]
  },
  {
   "cell_type": "markdown",
   "id": "80b991fa",
   "metadata": {},
   "source": [
    "## 4. Convert the council_district column to a string column."
   ]
  },
  {
   "cell_type": "code",
   "execution_count": 18,
   "id": "91176b6e",
   "metadata": {},
   "outputs": [],
   "source": [
    "case = case.withColumn('council_district', col('council_district').cast('string'))"
   ]
  },
  {
   "cell_type": "markdown",
   "id": "a8d50589",
   "metadata": {},
   "source": [
    "## 5. Extract the year from the case_closed_date column."
   ]
  },
  {
   "cell_type": "code",
   "execution_count": 19,
   "id": "1413fd55",
   "metadata": {},
   "outputs": [
    {
     "name": "stdout",
     "output_type": "stream",
     "text": [
      "+--------------------+-------------------+----+\n",
      "|service_request_type|   case_closed_date|year|\n",
      "+--------------------+-------------------+----+\n",
      "|        Stray Animal|2018-01-01 12:29:00|2018|\n",
      "|Removal Of Obstru...|2018-01-03 08:11:00|2018|\n",
      "|Removal Of Obstru...|2018-01-02 07:57:00|2018|\n",
      "|Front Or Side Yar...|2018-01-02 08:13:00|2018|\n",
      "|Animal Cruelty(Cr...|2018-01-01 13:29:00|2018|\n",
      "+--------------------+-------------------+----+\n",
      "only showing top 5 rows\n",
      "\n"
     ]
    }
   ],
   "source": [
    "case.withColumn('year', year('case_closed_date'))\\\n",
    "    .select('service_request_type', 'case_closed_date', 'year')\\\n",
    "    .show(5)"
   ]
  },
  {
   "cell_type": "markdown",
   "id": "d8814161",
   "metadata": {},
   "source": [
    "## 6. Convert num_days_late from days to hours in new columns num_hours_late."
   ]
  },
  {
   "cell_type": "code",
   "execution_count": 20,
   "id": "909179b8",
   "metadata": {},
   "outputs": [
    {
     "name": "stdout",
     "output_type": "stream",
     "text": [
      "+-------------------+--------------+\n",
      "|      num_days_late|num_hours_late|\n",
      "+-------------------+--------------+\n",
      "| -998.5087616000001|      -23964.2|\n",
      "|-2.0126041669999997|         -48.3|\n",
      "|       -3.022337963|         -72.5|\n",
      "|       -15.01148148|        -360.3|\n",
      "|0.37216435200000003|           8.9|\n",
      "|       -29.74398148|        -713.9|\n",
      "|       -14.70673611|        -353.0|\n",
      "|       -14.70662037|        -353.0|\n",
      "|       -14.70662037|        -353.0|\n",
      "|       -14.70649306|        -353.0|\n",
      "+-------------------+--------------+\n",
      "only showing top 10 rows\n",
      "\n"
     ]
    }
   ],
   "source": [
    "case.withColumn('num_hours_late', round(expr('num_days_late * 24'), 1))\\\n",
    "    .select('num_days_late', 'num_hours_late')\\\n",
    "    .show(10)"
   ]
  },
  {
   "cell_type": "code",
   "execution_count": 21,
   "id": "05763de7",
   "metadata": {},
   "outputs": [],
   "source": [
    "case = case.withColumn('num_hours_late', round(expr('num_days_late * 24'), 1))"
   ]
  },
  {
   "cell_type": "markdown",
   "id": "312f0649",
   "metadata": {},
   "source": [
    "## 7. Join the case data with the source and department data."
   ]
  },
  {
   "cell_type": "code",
   "execution_count": 22,
   "id": "ab970324",
   "metadata": {},
   "outputs": [
    {
     "name": "stdout",
     "output_type": "stream",
     "text": [
      "-RECORD 0------------------------------------\n",
      " source_id            | svcCRMLS             \n",
      " case_id              | 1014127332           \n",
      " case_opened_date     | 2018-01-01 00:42:00  \n",
      " case_closed_date     | 2018-01-01 12:29:00  \n",
      " case_due_date        | 2020-09-26 00:42:00  \n",
      " case_late            | false                \n",
      " num_days_late        | -998.5087616000001   \n",
      " case_closed          | true                 \n",
      " dept_division        | Field Operations     \n",
      " service_request_type | Stray Animal         \n",
      " SLA_days             | 999.0                \n",
      " case_status          | Closed               \n",
      " request_address      | 2315  EL PASO ST,... \n",
      " council_district     | 5                    \n",
      " num_hours_late       | -23964.2             \n",
      " source_username      | svcCRMLS             \n",
      "-RECORD 1------------------------------------\n",
      " source_id            | svcCRMSS             \n",
      " case_id              | 1014127333           \n",
      " case_opened_date     | 2018-01-01 00:46:00  \n",
      " case_closed_date     | 2018-01-03 08:11:00  \n",
      " case_due_date        | 2018-01-05 08:30:00  \n",
      " case_late            | false                \n",
      " num_days_late        | -2.0126041669999997  \n",
      " case_closed          | true                 \n",
      " dept_division        | Storm Water          \n",
      " service_request_type | Removal Of Obstru... \n",
      " SLA_days             | 4.322222222          \n",
      " case_status          | Closed               \n",
      " request_address      | 2215  GOLIAD RD, ... \n",
      " council_district     | 3                    \n",
      " num_hours_late       | -48.3                \n",
      " source_username      | svcCRMSS             \n",
      "only showing top 2 rows\n",
      "\n"
     ]
    }
   ],
   "source": [
    "case = case.join(source, 'source_id', 'left')\\\n",
    "           .drop(source.source_id)\n",
    "\n",
    "case.show(2, vertical=True)"
   ]
  },
  {
   "cell_type": "code",
   "execution_count": 23,
   "id": "9b6bff79",
   "metadata": {},
   "outputs": [
    {
     "name": "stdout",
     "output_type": "stream",
     "text": [
      "-RECORD 0------------------------------------\n",
      " dept_division        | Field Operations     \n",
      " source_id            | svcCRMLS             \n",
      " case_id              | 1014127332           \n",
      " case_opened_date     | 2018-01-01 00:42:00  \n",
      " case_closed_date     | 2018-01-01 12:29:00  \n",
      " case_due_date        | 2020-09-26 00:42:00  \n",
      " case_late            | false                \n",
      " num_days_late        | -998.5087616000001   \n",
      " case_closed          | true                 \n",
      " service_request_type | Stray Animal         \n",
      " SLA_days             | 999.0                \n",
      " case_status          | Closed               \n",
      " request_address      | 2315  EL PASO ST,... \n",
      " council_district     | 5                    \n",
      " num_hours_late       | -23964.2             \n",
      " source_username      | svcCRMLS             \n",
      " department           | Animal Care Services \n",
      " dept_subject_to_SLA  | true                 \n",
      "-RECORD 1------------------------------------\n",
      " dept_division        | Storm Water          \n",
      " source_id            | svcCRMSS             \n",
      " case_id              | 1014127333           \n",
      " case_opened_date     | 2018-01-01 00:46:00  \n",
      " case_closed_date     | 2018-01-03 08:11:00  \n",
      " case_due_date        | 2018-01-05 08:30:00  \n",
      " case_late            | false                \n",
      " num_days_late        | -2.0126041669999997  \n",
      " case_closed          | true                 \n",
      " service_request_type | Removal Of Obstru... \n",
      " SLA_days             | 4.322222222          \n",
      " case_status          | Closed               \n",
      " request_address      | 2215  GOLIAD RD, ... \n",
      " council_district     | 3                    \n",
      " num_hours_late       | -48.3                \n",
      " source_username      | svcCRMSS             \n",
      " department           | Trans & Cap Impro... \n",
      " dept_subject_to_SLA  | true                 \n",
      "only showing top 2 rows\n",
      "\n"
     ]
    }
   ],
   "source": [
    "case = case.join(dept, 'dept_division', 'left')\\\n",
    "           .drop(dept.dept_division)\\\n",
    "           .drop(dept.dept_name)\\\n",
    "           .withColumnRenamed('standardized_dept_name', 'department')\\\n",
    "           .withColumn('dept_subject_to_SLA', col('dept_subject_to_SLA') == 'YES')\n",
    "\n",
    "case.show(2, vertical=True)"
   ]
  },
  {
   "cell_type": "markdown",
   "id": "5818bdb0",
   "metadata": {},
   "source": [
    "## 8. Are there any cases that do not have a request source?"
   ]
  },
  {
   "cell_type": "code",
   "execution_count": 24,
   "id": "cb1dad59",
   "metadata": {},
   "outputs": [
    {
     "data": {
      "text/plain": [
       "0"
      ]
     },
     "execution_count": 24,
     "metadata": {},
     "output_type": "execute_result"
    }
   ],
   "source": [
    "case.filter(case.source_id == 'null').count()"
   ]
  },
  {
   "cell_type": "code",
   "execution_count": 25,
   "id": "1278f216",
   "metadata": {},
   "outputs": [
    {
     "data": {
      "text/plain": [
       "0"
      ]
     },
     "execution_count": 25,
     "metadata": {},
     "output_type": "execute_result"
    }
   ],
   "source": [
    "case.filter(case.source_id == '').count()"
   ]
  },
  {
   "cell_type": "markdown",
   "id": "d5030824",
   "metadata": {},
   "source": [
    "## 9. What are the top 10 service request types in terms of number of requests?"
   ]
  },
  {
   "cell_type": "code",
   "execution_count": 26,
   "id": "ca4d6fdd",
   "metadata": {},
   "outputs": [
    {
     "name": "stderr",
     "output_type": "stream",
     "text": [
      "\r\n",
      "[Stage 42:====>                                                   (1 + 11) / 12]\r"
     ]
    },
    {
     "name": "stdout",
     "output_type": "stream",
     "text": [
      "+--------------------+-----+\n",
      "|service_request_type|count|\n",
      "+--------------------+-----+\n",
      "|           No Pickup|89210|\n",
      "|Overgrown Yard/Trash|66403|\n",
      "|        Bandit Signs|32968|\n",
      "|        Damaged Cart|31163|\n",
      "|Front Or Side Yar...|28920|\n",
      "|        Stray Animal|27361|\n",
      "|Aggressive Animal...|25492|\n",
      "|Cart Exchange Req...|22608|\n",
      "|Junk Vehicle On P...|21649|\n",
      "|     Pot Hole Repair|20827|\n",
      "+--------------------+-----+\n",
      "only showing top 10 rows\n",
      "\n"
     ]
    },
    {
     "name": "stderr",
     "output_type": "stream",
     "text": [
      "\r\n",
      "                                                                                \r"
     ]
    }
   ],
   "source": [
    "case.groupBy('service_request_type')\\\n",
    "    .count()\\\n",
    "    .sort(desc('count'))\\\n",
    "    .show(10)"
   ]
  },
  {
   "cell_type": "markdown",
   "id": "0845323d",
   "metadata": {},
   "source": [
    "## 10. What are the top 10 service request types in terms of average days late?"
   ]
  },
  {
   "cell_type": "code",
   "execution_count": 27,
   "id": "ef68a3d9",
   "metadata": {},
   "outputs": [
    {
     "name": "stderr",
     "output_type": "stream",
     "text": [
      "[Stage 47:====>                                                   (1 + 11) / 12]\r"
     ]
    },
    {
     "name": "stdout",
     "output_type": "stream",
     "text": [
      "+--------------------+--------+\n",
      "|service_request_type|avg_late|\n",
      "+--------------------+--------+\n",
      "|  Zoning: Junk Yards|   176.0|\n",
      "|Labeling for Used...|   162.4|\n",
      "|Record Keeping of...|   154.0|\n",
      "|Signage Requied f...|   151.6|\n",
      "|Storage of Used M...|   142.1|\n",
      "|Zoning: Recycle Yard|   135.9|\n",
      "|Donation Containe...|   131.8|\n",
      "|License Requied U...|   128.8|\n",
      "|Traffic Signal Gr...|   101.8|\n",
      "|           Complaint|    72.9|\n",
      "+--------------------+--------+\n",
      "only showing top 10 rows\n",
      "\n"
     ]
    },
    {
     "name": "stderr",
     "output_type": "stream",
     "text": [
      "\r\n",
      "                                                                                \r"
     ]
    }
   ],
   "source": [
    "case.groupBy('service_request_type')\\\n",
    "    .agg(round(mean('num_days_late'), 1).alias('avg_late'))\\\n",
    "    .sort(desc('avg_late'))\\\n",
    "    .show(10)"
   ]
  },
  {
   "cell_type": "markdown",
   "id": "f6dc6dcb",
   "metadata": {},
   "source": [
    "## 11. Does number of days late depend on department?"
   ]
  },
  {
   "cell_type": "code",
   "execution_count": 28,
   "id": "0e97484d",
   "metadata": {},
   "outputs": [
    {
     "name": "stdout",
     "output_type": "stream",
     "text": [
      "+--------------------+--------+\n",
      "|          department|avg_late|\n",
      "+--------------------+--------+\n",
      "|    Customer Service|    59.7|\n",
      "|         Solid Waste|    -2.2|\n",
      "|        Metro Health|    -4.9|\n",
      "|  Parks & Recreation|    -5.3|\n",
      "|Trans & Cap Impro...|   -20.6|\n",
      "|DSD/Code Enforcement|   -38.4|\n",
      "|Animal Care Services|  -226.5|\n",
      "|        City Council|    null|\n",
      "+--------------------+--------+\n",
      "\n"
     ]
    },
    {
     "name": "stderr",
     "output_type": "stream",
     "text": [
      "\r\n",
      "[Stage 52:====>                                                   (1 + 11) / 12]\r\n",
      "\r\n",
      "                                                                                \r"
     ]
    }
   ],
   "source": [
    "case.groupBy('department')\\\n",
    "    .agg(round(mean('num_days_late'), 1).alias('avg_late'))\\\n",
    "    .sort(desc('avg_late'))\\\n",
    "    .show(10)"
   ]
  },
  {
   "cell_type": "markdown",
   "id": "73bf5982",
   "metadata": {},
   "source": [
    "## 12. How do number of days late depend on department and request type?"
   ]
  },
  {
   "cell_type": "code",
   "execution_count": 29,
   "id": "55feb1ab",
   "metadata": {},
   "outputs": [
    {
     "name": "stderr",
     "output_type": "stream",
     "text": [
      "\r\n",
      "[Stage 57:====>                                                   (1 + 11) / 12]\r"
     ]
    },
    {
     "name": "stdout",
     "output_type": "stream",
     "text": [
      "+--------------------+--------------------+-------------+\n",
      "|          department|service_request_type|avg_days_late|\n",
      "+--------------------+--------------------+-------------+\n",
      "|Animal Care Services|Animal Bite(Non-C...|         -2.5|\n",
      "|Animal Care Services|Spay/Neuter Reque...|         -7.0|\n",
      "|Animal Care Services|Animal Bite(Criti...|          0.0|\n",
      "|Animal Care Services|        Stray Animal|       -998.8|\n",
      "|Animal Care Services|Animal Cruelty(Cr...|         -0.1|\n",
      "|Animal Care Services|Aggressive Animal...|         16.7|\n",
      "|Animal Care Services|Trapped/Confined ...|          0.2|\n",
      "|Animal Care Services|Public Nuisance(O...|         -2.2|\n",
      "|Animal Care Services|      Animal Neglect|          7.3|\n",
      "|Animal Care Services|City Council Anim...|         -1.5|\n",
      "|Animal Care Services|     Officer Standby|         -0.1|\n",
      "|Animal Care Services|Animal Permits Re...|         22.2|\n",
      "|Animal Care Services|Injured Animal(Cr...|         -0.1|\n",
      "|Animal Care Services|Aggressive Animal...|          2.6|\n",
      "|        City Council|Request for Resea...|         null|\n",
      "|        City Council|CCO_Request for R...|         null|\n",
      "|    Customer Service|           Complaint|         72.9|\n",
      "|    Customer Service|          Compliment|         -8.0|\n",
      "|DSD/Code Enforcement|Zoning: Oversized...|         -4.7|\n",
      "|DSD/Code Enforcement|    Vehicle Blocking|          0.0|\n",
      "|DSD/Code Enforcement|Emergency: Main a...|         22.3|\n",
      "|DSD/Code Enforcement|\"Vacant Lot-City ...|        -45.2|\n",
      "|DSD/Code Enforcement|Vacant Lot-City (...|        -55.4|\n",
      "|DSD/Code Enforcement|Improper Storage ...|        -59.2|\n",
      "|DSD/Code Enforcement|Zoning: Mobile Homes|        -87.6|\n",
      "|DSD/Code Enforcement| Graffiti: Guardrail|         -1.8|\n",
      "|DSD/Code Enforcement|             Vendors|         66.5|\n",
      "|DSD/Code Enforcement|CPS Energy Metal ...|       -129.2|\n",
      "|DSD/Code Enforcement|Fly Breeding and ...|        -56.7|\n",
      "|DSD/Code Enforcement|DSDB Ordered/Hold...|         -4.7|\n",
      "|DSD/Code Enforcement|Right Of Way/Side...|         -8.2|\n",
      "|DSD/Code Enforcement|      Graffiti: Curb|         -1.9|\n",
      "|DSD/Code Enforcement|Graffiti: Drainag...|         -0.6|\n",
      "|DSD/Code Enforcement|Graffiti: Traffic...|         -0.8|\n",
      "|DSD/Code Enforcement|Wasting Water (Le...|       -113.6|\n",
      "|DSD/Code Enforcement|\"Vacant Lot-Count...|        -40.7|\n",
      "|DSD/Code Enforcement|\"Vacant Lot-Priva...|        -40.6|\n",
      "|DSD/Code Enforcement|   Sewer Line Broken|        -53.8|\n",
      "|DSD/Code Enforcement|Junk Vehicle On P...|        -42.7|\n",
      "|DSD/Code Enforcement|Graffiti: Vacant ...|        -69.1|\n",
      "|DSD/Code Enforcement|Zoning: Illumination|        -98.9|\n",
      "|DSD/Code Enforcement|Emergency: Main S...|          8.3|\n",
      "|DSD/Code Enforcement|Zoning: Recycle Yard|        135.9|\n",
      "|DSD/Code Enforcement|  Zoning: Junk Yards|        176.0|\n",
      "|DSD/Code Enforcement|     Permits, Fences|        -14.2|\n",
      "|DSD/Code Enforcement|   Water No Services|       -113.7|\n",
      "|DSD/Code Enforcement|Dang. Premises/CL...|        -40.2|\n",
      "|DSD/Code Enforcement|    Zoning: Setbacks|        -85.3|\n",
      "|DSD/Code Enforcement|Low Hanging Limbs...|       -112.8|\n",
      "|DSD/Code Enforcement|\"Vacant Lot-State...|        -50.4|\n",
      "+--------------------+--------------------+-------------+\n",
      "only showing top 50 rows\n",
      "\n"
     ]
    },
    {
     "name": "stderr",
     "output_type": "stream",
     "text": [
      "\r\n",
      "                                                                                \r"
     ]
    }
   ],
   "source": [
    "case.groupBy('department', 'service_request_type')\\\n",
    "    .agg(round(avg('num_days_late'), 1).alias('avg_days_late'))\\\n",
    "    .sort('department')\\\n",
    "    .show(50)"
   ]
  }
 ],
 "metadata": {
  "kernelspec": {
   "display_name": "Python 3 (ipykernel)",
   "language": "python",
   "name": "python3"
  },
  "language_info": {
   "codemirror_mode": {
    "name": "ipython",
    "version": 3
   },
   "file_extension": ".py",
   "mimetype": "text/x-python",
   "name": "python",
   "nbconvert_exporter": "python",
   "pygments_lexer": "ipython3",
   "version": "3.10.9"
  },
  "varInspector": {
   "cols": {
    "lenName": 16,
    "lenType": 16,
    "lenVar": 40
   },
   "kernels_config": {
    "python": {
     "delete_cmd_postfix": "",
     "delete_cmd_prefix": "del ",
     "library": "var_list.py",
     "varRefreshCmd": "print(var_dic_list())"
    },
    "r": {
     "delete_cmd_postfix": ") ",
     "delete_cmd_prefix": "rm(",
     "library": "var_list.r",
     "varRefreshCmd": "cat(var_dic_list()) "
    }
   },
   "types_to_exclude": [
    "module",
    "function",
    "builtin_function_or_method",
    "instance",
    "_Feature"
   ],
   "window_display": false
  }
 },
 "nbformat": 4,
 "nbformat_minor": 5
}
